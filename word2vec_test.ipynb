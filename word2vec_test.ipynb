{
 "cells": [
  {
   "cell_type": "code",
   "execution_count": 51,
   "metadata": {
    "collapsed": false
   },
   "outputs": [],
   "source": [
    "import MeCab as mecab\n",
    "from gensim.models import word2vec\n",
    "import logging\n",
    "import pandas as pd\n",
    "from io import StringIO"
   ]
  },
  {
   "cell_type": "code",
   "execution_count": 43,
   "metadata": {
    "collapsed": true
   },
   "outputs": [],
   "source": [
    "# ファイルの読み込み\n",
    "sentence = str(open(\"./wiki_00\",\"r\",encoding=\"utf-8\").read())"
   ]
  },
  {
   "cell_type": "code",
   "execution_count": 55,
   "metadata": {
    "collapsed": false
   },
   "outputs": [],
   "source": [
    "# 形態素解析\n",
    "tagger = mecab.Tagger('-d /usr/local/lib/mecab/dic/mecab-ipadic-neologd -Owakati')\n",
    "tagger.parse('') # <= 空文字列をparseする(バグ対応)  \n",
    "data = tagger.parse(sentence)\n",
    "data = StringIO(data)"
   ]
  },
  {
   "cell_type": "code",
   "execution_count": 40,
   "metadata": {
    "collapsed": true
   },
   "outputs": [],
   "source": [
    "# モデル作成の進捗状況\n",
    "logging.basicConfig(format='%(asctime)s : %(levelname)s : %(message)s', level=logging.INFO)"
   ]
  },
  {
   "cell_type": "code",
   "execution_count": 58,
   "metadata": {
    "collapsed": false
   },
   "outputs": [
    {
     "name": "stderr",
     "output_type": "stream",
     "text": [
      "2018-04-10 01:40:59,704 : INFO : collecting all words and their counts\n",
      "2018-04-10 01:40:59,707 : INFO : PROGRESS: at sentence #0, processed 0 words, keeping 0 word types\n",
      "2018-04-10 01:40:59,772 : INFO : collected 14655 word types from a corpus of 206489 raw words and 21 sentences\n",
      "2018-04-10 01:40:59,773 : INFO : Loading a fresh vocabulary\n",
      "2018-04-10 01:40:59,782 : INFO : min_count=20 retains 1046 unique words (7% of original 14655, drops 13609)\n",
      "2018-04-10 01:40:59,783 : INFO : min_count=20 leaves 166434 word corpus (80% of original 206489, drops 40055)\n",
      "2018-04-10 01:40:59,787 : INFO : deleting the raw counts dictionary of 14655 items\n",
      "2018-04-10 01:40:59,788 : INFO : sample=0.001 downsamples 42 most-common words\n",
      "2018-04-10 01:40:59,789 : INFO : downsampling leaves estimated 95183 word corpus (57.2% of prior 166434)\n",
      "2018-04-10 01:40:59,793 : INFO : estimated required memory for 1046 words and 200 dimensions: 2196600 bytes\n",
      "2018-04-10 01:40:59,794 : INFO : resetting layer weights\n",
      "2018-04-10 01:40:59,814 : INFO : training model with 3 workers on 1046 vocabulary and 200 features, using sg=0 hs=0 sample=0.001 negative=5 window=15\n",
      "2018-04-10 01:40:59,932 : INFO : worker thread finished; awaiting finish of 2 more threads\n",
      "2018-04-10 01:40:59,937 : INFO : worker thread finished; awaiting finish of 1 more threads\n",
      "2018-04-10 01:40:59,939 : INFO : worker thread finished; awaiting finish of 0 more threads\n",
      "2018-04-10 01:40:59,940 : INFO : EPOCH - 1 : training on 206489 raw words (95102 effective words) took 0.1s, 770481 effective words/s\n",
      "2018-04-10 01:41:00,062 : INFO : worker thread finished; awaiting finish of 2 more threads\n",
      "2018-04-10 01:41:00,064 : INFO : worker thread finished; awaiting finish of 1 more threads\n",
      "2018-04-10 01:41:00,067 : INFO : worker thread finished; awaiting finish of 0 more threads\n",
      "2018-04-10 01:41:00,068 : INFO : EPOCH - 2 : training on 206489 raw words (95042 effective words) took 0.1s, 752222 effective words/s\n",
      "2018-04-10 01:41:00,177 : INFO : worker thread finished; awaiting finish of 2 more threads\n",
      "2018-04-10 01:41:00,184 : INFO : worker thread finished; awaiting finish of 1 more threads\n",
      "2018-04-10 01:41:00,185 : INFO : worker thread finished; awaiting finish of 0 more threads\n",
      "2018-04-10 01:41:00,186 : INFO : EPOCH - 3 : training on 206489 raw words (95210 effective words) took 0.1s, 819337 effective words/s\n",
      "2018-04-10 01:41:00,303 : INFO : worker thread finished; awaiting finish of 2 more threads\n",
      "2018-04-10 01:41:00,306 : INFO : worker thread finished; awaiting finish of 1 more threads\n",
      "2018-04-10 01:41:00,309 : INFO : worker thread finished; awaiting finish of 0 more threads\n",
      "2018-04-10 01:41:00,309 : INFO : EPOCH - 4 : training on 206489 raw words (95085 effective words) took 0.1s, 788350 effective words/s\n",
      "2018-04-10 01:41:00,423 : INFO : worker thread finished; awaiting finish of 2 more threads\n",
      "2018-04-10 01:41:00,425 : INFO : worker thread finished; awaiting finish of 1 more threads\n",
      "2018-04-10 01:41:00,428 : INFO : worker thread finished; awaiting finish of 0 more threads\n",
      "2018-04-10 01:41:00,429 : INFO : EPOCH - 5 : training on 206489 raw words (95277 effective words) took 0.1s, 811339 effective words/s\n",
      "2018-04-10 01:41:00,430 : INFO : training on a 1032445 raw words (475716 effective words) took 0.6s, 773464 effective words/s\n",
      "2018-04-10 01:41:00,440 : INFO : saving Word2Vec object under ./wiki.model, separately None\n",
      "2018-04-10 01:41:00,441 : INFO : not storing attribute vectors_norm\n",
      "2018-04-10 01:41:00,443 : INFO : not storing attribute cum_table\n",
      "2018-04-10 01:41:00,480 : INFO : saved ./wiki.model\n"
     ]
    }
   ],
   "source": [
    "corpus = word2vec.Text8Corpus('wiki_00.txt')\n",
    "model = word2vec.Word2Vec(corpus, size=200, min_count=20, window=15)\n",
    "model.save(\"./wiki.model\")"
   ]
  },
  {
   "cell_type": "code",
   "execution_count": null,
   "metadata": {
    "collapsed": true
   },
   "outputs": [],
   "source": []
  }
 ],
 "metadata": {
  "kernelspec": {
   "display_name": "Python 3",
   "language": "python",
   "name": "python3"
  },
  "language_info": {
   "codemirror_mode": {
    "name": "ipython",
    "version": 3
   },
   "file_extension": ".py",
   "mimetype": "text/x-python",
   "name": "python",
   "nbconvert_exporter": "python",
   "pygments_lexer": "ipython3",
   "version": "3.6.0"
  }
 },
 "nbformat": 4,
 "nbformat_minor": 2
}
