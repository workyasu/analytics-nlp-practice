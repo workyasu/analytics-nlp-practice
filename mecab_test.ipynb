{
 "cells": [
  {
   "cell_type": "code",
   "execution_count": 2,
   "metadata": {
    "collapsed": false
   },
   "outputs": [],
   "source": [
    "import MeCab as mecab\n",
    "from collections import Counter"
   ]
  },
  {
   "cell_type": "code",
   "execution_count": 6,
   "metadata": {
    "collapsed": false
   },
   "outputs": [],
   "source": [
    "# ファイルの読み込み\n",
    "sentence = str(open(\"./wiki_00\",\"r\",encoding=\"utf-8\").read())"
   ]
  },
  {
   "cell_type": "code",
   "execution_count": 21,
   "metadata": {
    "collapsed": false
   },
   "outputs": [],
   "source": [
    "# mecabを用いて単語に分ける\n",
    "def parse(str, word_class):\n",
    "    tagger = mecab.Tagger('-d /usr/local/lib/mecab/dic/mecab-ipadic-neologd -Ochasen')\n",
    "    tagger.parse('') # <= 空文字列をparseする\n",
    "    node = tagger.parseToNode(sentence)\n",
    "\n",
    "    output = []\n",
    "    while node:  \n",
    "        if node.surface != \"\":\n",
    "            word_type = node.feature.split(\",\")[0]\n",
    "            if word_type in word_class:\n",
    "                output.append(node.surface)\n",
    "        node = node.next\n",
    "        if node is None:\n",
    "            break\n",
    "    return output\n",
    "\n",
    "counter = Counter(output)"
   ]
  },
  {
   "cell_type": "markdown",
   "metadata": {},
   "source": [
    "## 動詞 頻出Top10リスト"
   ]
  },
  {
   "cell_type": "code",
   "execution_count": 22,
   "metadata": {
    "collapsed": false
   },
   "outputs": [
    {
     "name": "stdout",
     "output_type": "stream",
     "text": [
      "し,2627\n",
      "する,1625\n",
      "れ,1529\n",
      "いる,1455\n",
      "さ,1444\n",
      "れる,762\n",
      "ある,698\n",
      "なっ,497\n",
      "い,418\n",
      "られ,318\n",
      "なる,297\n",
      "られる,294\n",
      "おり,238\n",
      "用い,171\n",
      "あり,142\n",
      "呼ば,130\n",
      "できる,128\n",
      "なり,122\n",
      "き,113\n",
      "行わ,104\n",
      "せ,104\n",
      "あっ,99\n",
      "見,97\n",
      "使わ,92\n",
      "受け,75\n",
      "持つ,73\n",
      "用いる,72\n",
      "異なる,72\n",
      "考え,70\n",
      "でき,66\n"
     ]
    }
   ],
   "source": [
    "# 単語をカウント\n",
    "output = parse(sentence, \"動詞\")\n",
    "for word, count in Counter(output).most_common(30):\n",
    "    if len(word) > 0:\n",
    "        print (\"%s,%d\" % (word, count))"
   ]
  },
  {
   "cell_type": "markdown",
   "metadata": {
    "collapsed": true
   },
   "source": [
    "## 名詞 頻出Top10リスト"
   ]
  },
  {
   "cell_type": "code",
   "execution_count": 23,
   "metadata": {
    "collapsed": false
   },
   "outputs": [
    {
     "name": "stdout",
     "output_type": "stream",
     "text": [
      "こと,967\n",
      "的,612\n",
      "よう,600\n",
      "言語,470\n",
      "もの,459\n",
      "ため,329\n",
      "日本語,297\n",
      "語,285\n",
      "の,272\n",
      "これ,238\n",
      "場合,229\n",
      "存在,218\n",
      "パリ,209\n",
      "後,201\n",
      "研究,196\n",
      "現在,193\n",
      "化,189\n",
      "地域,175\n",
      "イラン,167\n",
      "方言,166\n",
      "オーストリア,165\n",
      "エジプト,158\n",
      "1,156\n",
      "中,156\n",
      "国,152\n",
      "それ,151\n",
      "人,149\n",
      "多く,140\n",
      "日本,139\n",
      "上,138\n"
     ]
    }
   ],
   "source": [
    "# 単語をカウント\n",
    "output = parse(sentence, \"名詞\")\n",
    "for word, count in Counter(output).most_common(30):\n",
    "    if len(word) > 0:\n",
    "        print (\"%s,%d\" % (word, count))"
   ]
  },
  {
   "cell_type": "code",
   "execution_count": null,
   "metadata": {
    "collapsed": true
   },
   "outputs": [],
   "source": []
  }
 ],
 "metadata": {
  "kernelspec": {
   "display_name": "Python 3",
   "language": "python",
   "name": "python3"
  },
  "language_info": {
   "codemirror_mode": {
    "name": "ipython",
    "version": 3
   },
   "file_extension": ".py",
   "mimetype": "text/x-python",
   "name": "python",
   "nbconvert_exporter": "python",
   "pygments_lexer": "ipython3",
   "version": "3.6.0"
  }
 },
 "nbformat": 4,
 "nbformat_minor": 2
}
